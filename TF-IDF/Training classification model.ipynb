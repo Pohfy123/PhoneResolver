{
 "cells": [
  {
   "cell_type": "markdown",
   "metadata": {},
   "source": [
    "# [Optional] LIMIT 100 words description per phone no."
   ]
  },
  {
   "cell_type": "code",
   "execution_count": null,
   "metadata": {
    "collapsed": true
   },
   "outputs": [],
   "source": [
    "import csv\n",
    "import codecs"
   ]
  },
  {
   "cell_type": "code",
   "execution_count": 33,
   "metadata": {
    "collapsed": false
   },
   "outputs": [],
   "source": [
    "with open('train-data/train.csv', 'rb') as csvfile:\n",
    "    reader = csv.reader(csvfile, delimiter=',')\n",
    "    f = codecs.open('train-data/train100words.csv', encoding='utf-8', mode='w')\n",
    "    for row in reader:\n",
    "        # limit 100 words per phone number description\n",
    "        row[1] = ' '.join(row[1].split(' ')[:100])\n",
    "        row_output = ','.join(row)\n",
    "        f.write(row_output.decode('utf-8'))\n",
    "        f.write('\\n')"
   ]
  },
  {
   "cell_type": "markdown",
   "metadata": {},
   "source": [
    "# RUN CLASSIFICATION MODEL TRAINER"
   ]
  },
  {
   "cell_type": "code",
   "execution_count": 2,
   "metadata": {
    "collapsed": false
   },
   "outputs": [
    {
     "name": "stdout",
     "output_type": "stream",
     "text": [
      "Start processing . . .\n",
      "Convert (words description of each phone no) to (Features) ::\n",
      "Completed !\n",
      "Convert to Pandas DataFrame\n",
      "Completed !\n",
      "========= TRAIN FEATURE #1 (Air Travel Ticket Agencies) =========\n",
      "STEP 1: Completed !\n",
      "STEP 2: Completed !\n",
      "Model saved ! :: (model_1.pickle)\n",
      "STEP 3: Completed !\n",
      "========= TRAIN FEATURE #2 (Home Stay) =========\n",
      "STEP 1: Completed !\n",
      "STEP 2: Completed !\n",
      "Model saved ! :: (model_2.pickle)\n",
      "STEP 3: Completed !\n",
      "========= TRAIN FEATURE #3 (Hotel) =========\n",
      "STEP 1: Completed !\n",
      "STEP 2: Completed !\n",
      "Model saved ! :: (model_3.pickle)\n",
      "STEP 3: Completed !\n",
      "========= TRAIN FEATURE #4 (Travel Bureaus) =========\n",
      "STEP 1: Completed !\n",
      "STEP 2: Completed !\n",
      "Model saved ! :: (model_4.pickle)\n",
      "STEP 3: Completed !\n",
      "========= TRAIN FEATURE #5 (Bakery Cake) =========\n",
      "STEP 1: Completed !\n",
      "STEP 2: Completed !\n",
      "Model saved ! :: (model_5.pickle)\n",
      "STEP 3: Completed !\n",
      "========= TRAIN FEATURE #6 (CAT6) =========\n",
      "STEP 1: Completed !\n",
      "STEP 2: Completed !\n",
      "Model saved ! :: (model_6.pickle)\n",
      "STEP 3: Completed !\n",
      "========= TRAIN FEATURE #7 (CAT7) =========\n",
      "STEP 1: Completed !\n",
      "STEP 2: Completed !\n",
      "Model saved ! :: (model_7.pickle)\n",
      "STEP 3: Completed !\n",
      "========= TRAIN FEATURE #8 (CAT8) =========\n",
      "STEP 1: Completed !\n",
      "STEP 2: Completed !\n",
      "Model saved ! :: (model_8.pickle)\n",
      "STEP 3: Completed !\n",
      "========= TRAIN FEATURE #9 (CAT9) =========\n",
      "STEP 1: Completed !\n",
      "STEP 2: Completed !\n",
      "Model saved ! :: (model_9.pickle)\n",
      "STEP 3: Completed !\n",
      "========= TRAIN FEATURE #10 (CAT10) =========\n",
      "STEP 1: Completed !\n",
      "STEP 2: Completed !\n",
      "Model saved ! :: (model_10.pickle)\n",
      "STEP 3: Completed !\n",
      "========= TRAIN FEATURE #11 (CAT11) =========\n",
      "STEP 1: Completed !\n",
      "STEP 2: Completed !\n",
      "Model saved ! :: (model_11.pickle)\n",
      "STEP 3: Completed !\n"
     ]
    }
   ],
   "source": [
    "%run naive_bayes.py"
   ]
  }
 ],
 "metadata": {
  "anaconda-cloud": {},
  "kernelspec": {
   "display_name": "Python [conda env:py27]",
   "language": "python",
   "name": "conda-env-py27-py"
  },
  "language_info": {
   "codemirror_mode": {
    "name": "ipython",
    "version": 2
   },
   "file_extension": ".py",
   "mimetype": "text/x-python",
   "name": "python",
   "nbconvert_exporter": "python",
   "pygments_lexer": "ipython2",
   "version": "2.7.12"
  }
 },
 "nbformat": 4,
 "nbformat_minor": 1
}
